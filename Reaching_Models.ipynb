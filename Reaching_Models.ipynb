{
 "cells": [
  {
   "cell_type": "code",
   "execution_count": 1,
   "id": "38c269c9",
   "metadata": {},
   "outputs": [],
   "source": [
    "from numba import njit\n",
    "import numpy as np\n"
   ]
  },
  {
   "cell_type": "markdown",
   "id": "94580d6e",
   "metadata": {},
   "source": [
    "# Below is the code for the general model (Model 1). To create the other models, simply set the appropriate model parameters to 0. \n",
    "\n",
    "# Example: Model 2 only uses error correction terms correcting towards the intended movement aim. Thus, for Model 2,  $$\\beta^{target, x} = \\beta^{target, y} = 0$$"
   ]
  },
  {
   "cell_type": "code",
   "execution_count": 2,
   "id": "eb73527b",
   "metadata": {},
   "outputs": [],
   "source": [
    "@njit\n",
    "def Model_1(error_condition = 1, reward_condition = 1, sigma_m = np.array([.038, .06]),\n",
    "            sigma_e = np.array([.051, .09]), sigma_p = np.array([.01, .01]),\n",
    "            alpha = .4,\n",
    "            beta_aim_relevant = .4, beta_target_relevant = .4,\n",
    "            beta_aim_irrelevant = .4, beta_target_irrelevant = .4,\n",
    "            right_bound = .3, left_bound = -.3):\n",
    "     \n",
    "    aim_X, aim_Y = 0, 0\n",
    "    \n",
    "    upp_y = .06\n",
    "    low_y = -.06 \n",
    "    \n",
    "    recorded_attempt = np.empty((200, 2))\n",
    "    history = np.zeros(200)\n",
    "    \n",
    "    previous_outcome = 0\n",
    "    for i in range(200):\n",
    "        expl_x, expl_y = (1 - previous_outcome)*np.random.normal(0, sigma_e[0]), (1 - previous_outcome)*np.random.normal(0, sigma_e[1])\n",
    "        motor_x, motor_y = np.random.normal(0, sigma_m[0]), np.random.normal(0, sigma_m[1])\n",
    "        \n",
    "        reach_x = aim_X + motor_x + expl_x\n",
    "        reach_y = aim_Y + motor_y + expl_y \n",
    "        \n",
    "        recorded_attempt[i] = reach_x, reach_y\n",
    "        \n",
    "        if (((reach_x <= right_bound) and (reach_x >= left_bound)) and ((reach_y <= upp_y) and (reach_y >= low_y))):\n",
    "            aim_X  = aim_X + reward_condition * alpha*expl_x - error_condition*(beta_target_relevant   * (reach_x - 0) + beta_aim_relevant   * (reach_x - aim_X))\n",
    "            aim_Y  = aim_Y + reward_condition * alpha*expl_y - error_condition*(beta_target_irrelevant * (reach_y - 0) + beta_aim_irrelevant * (reach_y - aim_Y))\n",
    "\n",
    "            previous_outcome = 1\n",
    "            history[i] = 1\n",
    "        else:\n",
    "            aim_X  = aim_X  - error_condition*(beta_target_relevant   * (reach_x - 0) + beta_aim_relevant   * (reach_x - aim_X)) \n",
    "            aim_Y  = aim_Y  - error_condition*(beta_target_irrelevant * (reach_y - 0) + beta_aim_irrelevant * (reach_y - aim_Y))  \n",
    "            \n",
    "            previous_outcome = 0\n",
    "            \n",
    "    \n",
    "    return recorded_attempt, history\n",
    "\n",
    "compile_test=Model_1()\n"
   ]
  },
  {
   "cell_type": "code",
   "execution_count": null,
   "id": "c99b0e9b",
   "metadata": {},
   "outputs": [],
   "source": []
  }
 ],
 "metadata": {
  "kernelspec": {
   "display_name": "Python 3 (ipykernel)",
   "language": "python",
   "name": "python3"
  },
  "language_info": {
   "codemirror_mode": {
    "name": "ipython",
    "version": 3
   },
   "file_extension": ".py",
   "mimetype": "text/x-python",
   "name": "python",
   "nbconvert_exporter": "python",
   "pygments_lexer": "ipython3",
   "version": "3.8.18"
  }
 },
 "nbformat": 4,
 "nbformat_minor": 5
}
